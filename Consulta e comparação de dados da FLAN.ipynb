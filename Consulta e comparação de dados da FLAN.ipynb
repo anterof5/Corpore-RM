{
 "cells": [
  {
   "cell_type": "markdown",
   "metadata": {},
   "source": [
    "# Consulta no banco do Corpore RM e comparação de dados na FLAN\n",
    "Com posse de uma planilha de lançamentos, descobriremos quais foram baixados, os respectivos valores e também se houveram lançamentos deletados.\n",
    "\n",
    "É o básico de extração de dados.\n"
   ]
  },
  {
   "cell_type": "code",
   "execution_count": null,
   "metadata": {},
   "outputs": [],
   "source": [
    "# Importação do Pandas e drive ODBC\n",
    "import pandas as pd\n",
    "import pyodbc"
   ]
  },
  {
   "cell_type": "code",
   "execution_count": null,
   "metadata": {},
   "outputs": [],
   "source": [
    "# leitura da planilha. A mesma deve estar na raiz.\n",
    "df = pd.read_excel('dados.xlsx')"
   ]
  },
  {
   "cell_type": "code",
   "execution_count": null,
   "metadata": {},
   "outputs": [],
   "source": [
    "# Seleção dos dados da coluna\n",
    "coluna = df[\"IDLAN\"].tolist()"
   ]
  },
  {
   "cell_type": "code",
   "execution_count": null,
   "metadata": {},
   "outputs": [],
   "source": [
    "# Estabelecer a conexão com SQL Server\n",
    "server = 'servername'\n",
    "database = 'CorporeRM'\n",
    "username = 'user'\n",
    "password = 'password'\n",
    "conexao = pyodbc.connect(\n",
    "    'DRIVER={ODBC Driver 17 for SQL Server};'\n",
    "    'SERVER='+server+';'\n",
    "    'DATABASE='+database+';'\n",
    "    'UID='+username+';'\n",
    "    'PWD='+password)"
   ]
  },
  {
   "cell_type": "code",
   "execution_count": null,
   "metadata": {},
   "outputs": [],
   "source": [
    "# Converter o array de inteiros em string com aspas e separada por vírgula. A função split não funciona com inteiros.\n",
    "lista = ''\n",
    "for num in coluna:\n",
    "    lista += str(num) + ','\n",
    "lista = lista[:-1] # remove a vírgula que sobrou\n",
    "\n",
    "# Consulta SQL\n",
    "query = ('''select FLAN.CODCOLIGADA, FCFO.NOME, IDLAN, DESCRICAO, HISTORICO, CAST(VALORORIGINAL AS MONEY ) AS VALORORIGINAL, \n",
    "CAST(VALORBAIXADO AS MONEY) AS VALORBAIXADO, DATABAIXA from flan INNER JOIN FCFO ON FLAN.CODCFO = FCFO.CODCFO AND FLAN.CODCOLCFO = FCFO.CODCOLIGADA left join ZMDSTATUSLAN ON FLAN.STATUSLAN = ZMDSTATUSLAN.ID\n",
    "where IDLAN in ({}) and FLAN.CODCOLIGADA = '1' ''').format(lista)"
   ]
  },
  {
   "cell_type": "code",
   "execution_count": null,
   "metadata": {
    "scrolled": false
   },
   "outputs": [],
   "source": [
    "# Consulta no banco e converte o resultado em Excel.\n",
    "df2 = pd.read_sql_query(query, conexao)\n",
    "df2.to_excel(\"Planilha.xlsx\")\n",
    "df2.head(10)"
   ]
  },
  {
   "cell_type": "code",
   "execution_count": null,
   "metadata": {},
   "outputs": [],
   "source": [
    "#Comparação das duas planilhas e saída em excel.\n",
    "df_all = pd.concat([df.set_index('IDLAN'), df2.set_index('IDLAN')], \n",
    "                   axis='columns', keys=['ORIGINAL','CONSULTA'])\n",
    "df_all.to_excel(\"Planilha_Comparacao.xlsx\")"
   ]
  }
 ],
 "metadata": {
  "kernelspec": {
   "display_name": "Python 3",
   "language": "python",
   "name": "python3"
  },
  "language_info": {
   "codemirror_mode": {
    "name": "ipython",
    "version": 3
   },
   "file_extension": ".py",
   "mimetype": "text/x-python",
   "name": "python",
   "nbconvert_exporter": "python",
   "pygments_lexer": "ipython3",
   "version": "3.7.3"
  }
 },
 "nbformat": 4,
 "nbformat_minor": 2
}
